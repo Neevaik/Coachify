{
 "cells": [
  {
   "cell_type": "code",
   "execution_count": 2,
   "metadata": {},
   "outputs": [],
   "source": [
    "from bs4 import BeautifulSoup\n",
    "import requests\n",
    "import os\n",
    "import shutil\n",
    "import pandas as pd\n",
    "\n",
    "MUSCLE_LIST = [\"neck\", \"trapezius\", \"shoulders\", \"chest\", \"back\", \"erector-spinae\", \"biceps\", \"triceps\", \"forearm\", \"abs\", \"leg\", \"calf\", \"hip\", \"cardio\", \"full-body\"]\n",
    "\n",
    "for directory in MUSCLE_LIST:\n",
    "    if not os.path.exists(directory):\n",
    "        os.makedirs(directory)"
   ]
  },
  {
   "cell_type": "code",
   "execution_count": 27,
   "metadata": {},
   "outputs": [],
   "source": [
    "#SCRAPING FUNCTIONS\n",
    "def add_page(link):\n",
    "    NUMBERS = [str(i) for i in range(1,100)]\n",
    "    link_parts = link.split('/')\n",
    "    if link_parts[-1] in NUMBERS:\n",
    "        val = int(link_parts.pop())\n",
    "        link_parts.append(NUMBERS[val])\n",
    "    else :\n",
    "        link_parts.extend(['page', '2'])\n",
    "    new_link = \"/\".join(link_parts)\n",
    "    return new_link\n",
    "\n",
    "def download_images(images_link, muscle):\n",
    "    for image_url in images_link:\n",
    "        image_url_parts = image_url.split(\"/\")\n",
    "        response = requests.get(image_url, stream=True)\n",
    "        with open(muscle + \"/\" + image_url_parts[-1], \"wb\") as img:\n",
    "            shutil.copyfileobj(response.raw, img)\n",
    "\n",
    "def list_all_exercises_gif(path):\n",
    "    gif_files = []\n",
    "    for dirpath, _, files in os.walk(path):\n",
    "        for file in files:\n",
    "            if file.endswith(\".gif\"):\n",
    "                filename = file[:-4]\n",
    "                filename = filename.capitalize().replace(\"-\", \" \")\n",
    "                muscle = dirpath[2:].capitalize()\n",
    "                gif_files.append([filename, muscle])\n",
    "    return gif_files\n",
    "\n",
    "\n",
    "def fuse_csv(path):\n",
    "    csv_list = []\n",
    "    for dirpath, _, files in os.walk(path):\n",
    "        for file in files:\n",
    "            if file.endswith(\".csv\"):\n",
    "                csv_list.append(os.path.join(dirpath, file))\n",
    "    dfs = [pd.read_csv(file, header=None) for file in csv_list]\n",
    "    final_df = pd.concat(dfs, ignore_index=True)\n",
    "    return final_df"
   ]
  },
  {
   "cell_type": "code",
   "execution_count": 4,
   "metadata": {},
   "outputs": [
    {
     "name": "stdout",
     "output_type": "stream",
     "text": [
      "Saved 23 GIF files for neck.\n",
      "Saved 53 GIF files for trapezius.\n",
      "Saved 192 GIF files for shoulders.\n",
      "Saved 153 GIF files for chest.\n",
      "Saved 125 GIF files for back.\n",
      "Saved 56 GIF files for erector-spinae.\n",
      "Saved 69 GIF files for biceps.\n",
      "Saved 104 GIF files for triceps.\n",
      "Saved 30 GIF files for forearm.\n",
      "Saved 154 GIF files for abs.\n",
      "Saved 233 GIF files for leg.\n",
      "Saved 40 GIF files for calf.\n",
      "Saved 219 GIF files for hip.\n",
      "Saved 91 GIF files for cardio.\n",
      "Saved 74 GIF files for full-body.\n"
     ]
    }
   ],
   "source": [
    "for muscle in MUSCLE_LIST:\n",
    "    link = \"https://fitnessprogramer.com/exercise-primary-muscle/\" + muscle\n",
    "    img_count = 0\n",
    "    while True:\n",
    "        try : \n",
    "            response = requests.get(link)\n",
    "            if response.status_code != 200:\n",
    "                raise Exception(\"Link error\")\n",
    "            page_content = response.content\n",
    "            soup = BeautifulSoup(page_content, 'lxml')\n",
    "            images = soup.find_all(\"img\")\n",
    "            images_links = [image[\"src\"] for image in images if image[\"src\"].endswith(\"gif\")]\n",
    "            exercises_list = [f\"{os.path.basename(link)[:-4].capitalize().replace('-', ' ')},{muscle.title()},{link}\" for link in images_links]\n",
    "            # download_images(images_links, muscle)\n",
    "            filepath = muscle + '/' + muscle + \"_linkslist.csv\"\n",
    "            with open(filepath, \"a+\") as file :\n",
    "                file.write(\"\\n\")\n",
    "                file.write(\"\\n\".join(exercises_list))\n",
    "                file.close()\n",
    "            link = add_page(link)\n",
    "            img_count += len(images_links)\n",
    "        except:\n",
    "            print(f\"Saved {img_count} GIF files for {muscle}.\")\n",
    "            break"
   ]
  },
  {
   "cell_type": "code",
   "execution_count": 29,
   "metadata": {},
   "outputs": [],
   "source": [
    "df = fuse_csv('.').rename(columns={0: \"exercise_name\", 1 : \"muscle\", 2 : \"GIF_link\"})\n",
    "df.to_csv(\"exercises_list.csv\", index=False)"
   ]
  },
  {
   "cell_type": "code",
   "execution_count": null,
   "metadata": {},
   "outputs": [],
   "source": [
    "all_exercises = list_all_exercises_gif(\".\")\n",
    "\n",
    "print(all_exercises)\n",
    "# with open(\"exercises_list.txt\", \"w+\") as f :\n",
    "#     f.write(\"\\n\".join(all_exercises))\n",
    "#     f.close()"
   ]
  }
 ],
 "metadata": {
  "kernelspec": {
   "display_name": "base (root)",
   "language": "python",
   "name": "python3"
  },
  "language_info": {
   "codemirror_mode": {
    "name": "ipython",
    "version": 3
   },
   "file_extension": ".py",
   "mimetype": "text/x-python",
   "name": "python",
   "nbconvert_exporter": "python",
   "pygments_lexer": "ipython3",
   "version": "3.11.7"
  }
 },
 "nbformat": 4,
 "nbformat_minor": 2
}
